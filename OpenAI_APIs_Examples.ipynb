{
  "nbformat": 4,
  "nbformat_minor": 0,
  "metadata": {
    "colab": {
      "provenance": []
    },
    "kernelspec": {
      "name": "python3",
      "display_name": "Python 3"
    },
    "language_info": {
      "name": "python"
    },
    "accelerator": "GPU",
    "gpuClass": "standard"
  },
  "cells": [
    {
      "cell_type": "markdown",
      "source": [
        "OpenAI' i kullanabilmek adına indirin."
      ],
      "metadata": {
        "id": "KbgDOt3-bEmz"
      }
    },
    {
      "cell_type": "code",
      "source": [
        "!pip install openai"
      ],
      "metadata": {
        "id": "oPMhiu6UIpIC"
      },
      "execution_count": null,
      "outputs": []
    },
    {
      "cell_type": "markdown",
      "source": [
        "## Metin özetleme örneği"
      ],
      "metadata": {
        "id": "UhLZd3e3bJQY"
      }
    },
    {
      "cell_type": "code",
      "source": [
        "import os\n",
        "import openai\n",
        "\n",
        "openai.api_key = \"bu kısma openai sitesinden aldığınız api-key'i direkt olarak yapıştırın.\"\n",
        "\n",
        "response = openai.Completion.create(\n",
        "  model=\"text-davinci-003\",\n",
        "  prompt= '''1919 yılı Mayısının 19'uncu günü Samsun'a çıktım. Ülkenin genel durumu ve görünüşü şöyledir :\n",
        "Osmanlı Devleti'nin içinde bulunduğu grup, I. Dünya Savaşı'nda yenilmiş, Osmanlı ordusu her\n",
        "tarafta zedelenmiş, şartları ağır bir ateşkes anlaşması imzalanmış. Büyük Savaş'ın uzun yılları\n",
        "boyunca millet yorgun ve fakir bir durumda. Milleti ve memleketi I. Dünya Savaşı'na\n",
        "sürükleyenler, kendi hayatlarını kurtarma kaygısına düşerek memleketten kaçmışlar. Saltanat ve\n",
        "hilâfet makamında oturan Vahdettin soysuzlaşmış, şahsını ve bir de tahtını koruyabileceğini hayal\n",
        "ettiği alçakça tedbirler araştırmakta. Damat Ferit Paşa 'nın başkanlığındaki hükûmet âciz,\n",
        "haysiyetsiz ve korkak. Yalnız padişahın iradesine boyun eğmekte ve onunla birlikte kendilerini\n",
        "koruyabilecekleri herhangi bir duruma razı.\n",
        "Ordunun elinden silâhları ve cephanesi alınmış ve alınmakta...\n",
        "İtilâf Devletleri, ateşkes anlaşmasının hükümlerine uymayı gerekli bulmuyorlar. Birer bahane ile\n",
        "İtilâf donanmaları ve askerleri İstanbul' da. Adana iIi Fransızlar; Urfa, Maraş, Ayıntap (Gaziantep)\n",
        "İngilizler tarafından işgal edilmiş. Antalya ve Konya'da İtalyan askerî birlikleri, Merzifon ve\n",
        "Samsun'da İngiliz askerleri bulunuyor. Her tarafta yabancı subay ve memurlar ile özel ajanlar\n",
        "faaliyette. Nihayet, konuşmamıza başlangıç olarak aldığımız tarihten dört gün önce, 15 Mayıs\n",
        "1919'da, İtilâl Devletleri'nin uygun bulması ile Yunan ordusuda İzmir'e çıkartılıyor.\n",
        "Bundan başka, memleketin her tarafında Hristiyan azınlıklar gizli veya açıktan açığa kendi özel\n",
        "emel ve maksatlarını gerçekleştirmeye devleti bir an önce çökertmeye çalışıyorlar.\n",
        "Sonradan elde edilen güvenilir bilgi ve belgelerle iyice anlaşılmıştır ki, İstanbul Rum\n",
        "Patrikhanesi'nde kurulan Mavri Mira Hey'eti illerde çeteler kurmak ve idare etmek, gösteri\n",
        "toplantıları ve propagandalar yaptırmakla meşgul. Yunan Kızılhaç'ı ve Resmî Göçmenler\n",
        "Komisyonu , Mavri Mira Hey'eti'nin çalışmalarını kolaylaştırmakla görevli. Mavri Mira Hey'eti\n",
        "tarafını,olan yönetilen Rum okullarının izni teşkilâtları, yirmi yaşından yukarı gençleri de içine\n",
        "almak üzere her yerde kuruluşunu tamamlıyor.\n",
        "Ermeni Patriği Zazen Efendi de, Mavri Mira Hey'eti ile birlikte çalışıyor. Ermeni hazırlığı da tıpkı\n",
        "Rum hazırlığı gibi ilerliyor. Trabzon, Samsun ve bütün Karadeniz sahillerinde örgütlenmiş olan ve 4 İstanbul'daki merkeze bağlı bulunan Pontus Cemiyeti hiç bir engelle karşılaşmadan kolaylıkla ve başarıyla çalışıyor.\\n\\nTl;dr''',\n",
        "temperature=0.7,\n",
        "  max_tokens=60,\n",
        "  top_p=1.0,\n",
        "  frequency_penalty=0.0,\n",
        "  presence_penalty=1\n",
        ")\n"
      ],
      "metadata": {
        "id": "J30NRQI_LZ_v"
      },
      "execution_count": 29,
      "outputs": []
    },
    {
      "cell_type": "code",
      "source": [
        "#print(response)"
      ],
      "metadata": {
        "id": "4HMRAxWTNJGG"
      },
      "execution_count": null,
      "outputs": []
    },
    {
      "cell_type": "code",
      "source": [
        "print(response[\"choices\"][0][\"text\"])\n"
      ],
      "metadata": {
        "colab": {
          "base_uri": "https://localhost:8080/"
        },
        "id": "vEHy1LWQLkJM",
        "outputId": "f307b295-12ef-4201-9cb9-08d5cf145a63"
      },
      "execution_count": 30,
      "outputs": [
        {
          "output_type": "stream",
          "name": "stdout",
          "text": [
            ": Osmanlı Devleti'nin I. Dünya Savaşı'nda yenilmesi ve ateşkes anlaşmasının imzalanması sonucunda ülke fakir duruma düşmü\n"
          ]
        }
      ]
    },
    {
      "cell_type": "markdown",
      "source": [
        "## Girdiğiniz cümleye göre sql sorgusu oluşturma örneği"
      ],
      "metadata": {
        "id": "71TYrjzWbPu1"
      }
    },
    {
      "cell_type": "code",
      "source": [
        "import os\n",
        "import openai\n",
        "\n",
        "openai.api_key = \"bu kısma openai sitesinden aldığınız api-key'i direkt olarak yapıştırın.\"\n",
        "\n",
        "response = openai.Completion.create(\n",
        "  model=\"text-davinci-003\",\n",
        "  prompt=\"çağrı tablosundaki, çağrı süresi 20 dakikadan fazla olan kullanıcıların users tablosundan soy isimlerini getiren trigger:\",\n",
        "  temperature=0.3,\n",
        "  max_tokens=60,\n",
        "  top_p=1.0,\n",
        "  frequency_penalty=0.0,\n",
        "  presence_penalty=0.0\n",
        ")"
      ],
      "metadata": {
        "id": "r5E9YQvLOUYs"
      },
      "execution_count": 37,
      "outputs": []
    },
    {
      "cell_type": "code",
      "source": [
        "print(response[\"choices\"][0][\"text\"])"
      ],
      "metadata": {
        "colab": {
          "base_uri": "https://localhost:8080/"
        },
        "id": "afBthV_kOYuX",
        "outputId": "21d1379e-ffd4-46f9-faaa-82e2512a53d2"
      },
      "execution_count": 38,
      "outputs": [
        {
          "output_type": "stream",
          "name": "stdout",
          "text": [
            "\n",
            "\n",
            "CREATE TRIGGER tr_CallDuration\n",
            "ON Calls\n",
            "AFTER INSERT\n",
            "AS\n",
            "BEGIN\n",
            "    SELECT u.LastName\n",
            "    FROM Users u\n",
            "    INNER JOIN INSERTED i ON u.UserId = i.UserId\n",
            "    WHERE i\n"
          ]
        }
      ]
    },
    {
      "cell_type": "markdown",
      "source": [
        "## Python kodunuzdaki hatayı bulup, düzelten script"
      ],
      "metadata": {
        "id": "DpU2dovxbcan"
      }
    },
    {
      "cell_type": "code",
      "source": [
        "import os\n",
        "import openai\n",
        "\n",
        "openai.api_key = \"bu kısma openai sitesinden aldığınız api-key'i direkt olarak yapıştırın.\"\n",
        "\n",
        "response = openai.Completion.create(\n",
        "  model=\"text-davinci-003\",\n",
        "  prompt=\"##### Fix bugs in the below function\\n \\n### Buggy Python\\nimport Random\\na = random.randint(1,12)\\nb = random.randint(1,12)\\nfor i in range(10):\\n    question = \\\"What is \\\"+a+\\\" x \\\"+b+\\\"? \\\"\\n    answer = input(question)\\n    if answer = a*b\\n        print (Well done!)\\n    else:\\n        print(\\\"No.\\\")\\n    \\n### Fixed Python\",\n",
        "  temperature=0,\n",
        "  max_tokens=182,\n",
        "  top_p=1.0,\n",
        "  frequency_penalty=0.0,\n",
        "  presence_penalty=0.0,\n",
        "  stop=[\"###\"]\n",
        ")"
      ],
      "metadata": {
        "id": "cQzX7SHZPQo0"
      },
      "execution_count": 39,
      "outputs": []
    },
    {
      "cell_type": "code",
      "source": [
        "print(response[\"choices\"][0][\"text\"])"
      ],
      "metadata": {
        "colab": {
          "base_uri": "https://localhost:8080/"
        },
        "id": "2qP7922APe5e",
        "outputId": "88af9dae-7451-4e9b-decc-a35d5e140f22"
      },
      "execution_count": 40,
      "outputs": [
        {
          "output_type": "stream",
          "name": "stdout",
          "text": [
            "\n",
            "import random\n",
            "a = random.randint(1,12)\n",
            "b = random.randint(1,12)\n",
            "for i in range(10):\n",
            "    question = \"What is \"+str(a)+\" x \"+str(b)+\"? \"\n",
            "    answer = int(input(question))\n",
            "    if answer == a*b:\n",
            "        print (\"Well done!\")\n",
            "    else:\n",
            "        print(\"No.\")\n"
          ]
        }
      ]
    }
  ]
}